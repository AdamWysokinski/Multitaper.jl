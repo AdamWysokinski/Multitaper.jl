{
 "cells": [
  {
   "cell_type": "markdown",
   "metadata": {},
   "source": [
    "# Discrete prolate spheroidal sequences\n",
    "\n",
    "The discrete prolate spheroidal sequences (Slepian, 1978), $v_n^{(k)}(N,W)$, are the eigenvector solutions to the eigenvalue problem\n",
    "\n",
    "$$\\sum_{m = 0}^{N-1}\\frac{\\sin 2\\pi W(n-m)}{\\pi(n-m)}v_m^{(k)}(N,W) = \\lambda_k(N,W)\\cdot v_n^{(k)}(N,W)$$\n",
    "\n",
    "where $N$ is the length of the sequence, $n = 0, \\ldots, N-1$, $W$ is the bandwidth, $K$ is the number of tapers, and $\\lambda_k(N,W)$ is the eigenvalue corresponding to the $k$th taper. \n",
    "\n",
    "The dpss's solve the problem of concentrating, in frequency, the most amount of mass under the interval $(-W,W)$, while having only finite extent in time. \n",
    "\n",
    "In Multitaper.jl, the dpss's are computed in the following way."
   ]
  },
  {
   "cell_type": "code",
   "execution_count": null,
   "metadata": {},
   "outputs": [],
   "source": [
    "using Plots, Multitaper, FFTW\n",
    "\n",
    "N     = 1024\n",
    "NW    = 4.0 \n",
    "K     = 8\n",
    "v,lam = Multitaper.dpss_tapers(N, NW, K, :both)\n",
    "\n",
    "plot(-512:511, v, label = lam', xlabel = \"Index\", title = \"DPSS's sorted by concentration\")"
   ]
  },
  {
   "cell_type": "markdown",
   "metadata": {},
   "source": [
    "The very first dpss taper has the largest \"concentration\" in the bandwidth of interest, very close to one. Subsequent tapers are less and less concentrated. To see this, plot their Fourier transforms as below. We zero pad, as before, to interpolate structure in frequency."
   ]
  },
  {
   "cell_type": "code",
   "execution_count": null,
   "metadata": {},
   "outputs": [],
   "source": [
    "M        = 4*N\n",
    "U        = mapreduce(x -> fft(vcat(x,zeros(M-N))), hcat, v[:,k] for k in 1:K)\n",
    "halffreq = Int64(M/2+1)\n",
    "freq     = range(0, 1,length = M+1)[1:halffreq]\n",
    "\n",
    "plot(freq[2:end], abs2.(U)[2:halffreq,:], \n",
    "    label = lam', yscale = :log10, xscale = :log10,\n",
    "    xlabel = \"Frequency (Hz)\", \n",
    "    title = \"Slepian functions\",\n",
    "    ylabel = \"Squared magnitude response \\n sorted by concentration\")\n",
    "\n",
    "plot!((NW/N)*ones(2), [1e-30, 1e3], label=\"W\", line = :dash)"
   ]
  },
  {
   "cell_type": "markdown",
   "metadata": {},
   "source": [
    "One can see that the bulk of the mass under each of the curves is on the interval (-W,W). \n",
    "It is also easy to see that as the concentration, lambda, decreases, there is less mass under\n",
    "the curve inside the band. Since the sequences all have unit energy, there is more mass outside\n",
    "the band for larger index. Comparing with the tapers in the first plot, we see the power drop off rather quickly outside the band (-W, W) of interest. \n",
    "\n",
    "The bandwidth, $W$, is a tuning parameter for the multitaper method, and one adjusts the bandwidth by selecting the time-bandwidth product <tt>NW</tt> above. The number of tapers, $K$, is selected to be less than $2NW$, as the concentration rapidly drops with increasing $k$. For further reading, consult the original paper cited below. "
   ]
  },
  {
   "cell_type": "markdown",
   "metadata": {},
   "source": [
    "# 2D Concentration in the Cartesian Plane\n",
    "\n",
    "For two dimensional sequences where data exist on a Cartesian rectangle, and one wants the spectrum concentrated in a circle one can use the following. The below computes and plots the first three tapers. See Simons and Wang, 2011 for computational details. "
   ]
  },
  {
   "cell_type": "code",
   "execution_count": null,
   "metadata": {},
   "outputs": [],
   "source": [
    "nslep = 3 # Number of Slepian tapers desired\n",
    "n = 128 # Number of samples in x on the interval [-1,1]\n",
    "m = 128 # Number of samples in y on the interval [-1,1]\n",
    "Kp = 12.0 # squared radius of the circle\n",
    "N = 32 # number of quadrature nodes (keep this small for best performance)\n",
    "M = 32 # number of quadrature nodes in y-direction\n",
    "verbose = true\n",
    "\n",
    "# It takes 248 seconds on a 2.9 GHz 6-core Intel Core i9 processor with 32 GB of 2400 MHz DDR4 memory\n",
    "# to compute the first 6 tapers\n",
    "@time R = Multitaper.rectsleps(nslep, n, m, Kp, N, M; verbose=verbose)"
   ]
  },
  {
   "cell_type": "code",
   "execution_count": null,
   "metadata": {},
   "outputs": [],
   "source": [
    "# Regions of concentration in space and spectrum \n",
    "xy = hcat(collect(range(-1,1,length=20)),ones(20))\n",
    "xy = vcat(xy,hcat(ones(20),collect(range(1,-1,length=20))))\n",
    "xy = vcat(xy,hcat(collect(range(-1,1,length=20)),-ones(20)))\n",
    "xy = vcat(xy,hcat(-ones(20),collect(range(-1,1,length=20))))\n",
    "\n",
    "t = range(0,2*pi,length=80)\n",
    "x = sqrt(12.0)*cos.(t)\n",
    "y = sqrt(12.0)*sin.(t)\n",
    "\n",
    "circ = map(y->abs2.(fftshift(fft(R[y]))),1:nslep)\n",
    "\n",
    "n2 = Int64(n/2)\n",
    "m2 = Int64(m/2)\n",
    "\n",
    "q1 = heatmap(range(-1,1,length=128),range(-1,1,length=128),R[1],title=\"Space\",ylabel=\"1st taper\")\n",
    "q1 = plot!(xy[:,1],xy[:,2],legend=false)\n",
    "q2 = heatmap(collect(-n2:(n2-1)),collect(-m2:(m2-1)),log10.(circ[1]),title=\"Spectrum\")\n",
    "q2 = plot!(x,y,c=:blue,legend=false)\n",
    "\n",
    "q3 = heatmap(range(-1,1,length = 128),range(-1,1,length=128),R[2],ylabel=\"2nd taper\")\n",
    "q3 = plot!(xy[:,1],xy[:,2],legend=false)\n",
    "q4 = heatmap(collect(-n2:(n2-1)),collect(-m2:(m2-1)),log10.(circ[2]))\n",
    "q4 = plot!(x,y,c=:blue,legend=false)\n",
    "\n",
    "q5 = heatmap(range(-1,1,length=128),range(-1,1,length=128),R[3],ylabel=\"3rd taper\")\n",
    "q5 = plot!(xy[:,1],xy[:,2],legend=false)\n",
    "q6 = heatmap(collect(-n2:(n2-1)),collect(-m2:(m2-1)),log10.(circ[3]))\n",
    "q6 = plot!(x,y,c=:blue,legend=false)\n",
    "\n",
    "plot(q1, q2, q3, q4, q5, q6, layout=(3,2))"
   ]
  },
  {
   "cell_type": "markdown",
   "metadata": {},
   "source": [
    "# References\n",
    "\n",
    "Simons, Frederik J., and Dong V. Wang. \"Spatiospectral concentration in the Cartesian plane.\" GEM-International Journal on Geomathematics 2.1 (2011): 1-36.\n",
    "\n",
    "Slepian, David. \"Prolate spheroidal wave functions, Fourier analysis, and uncertainty—V: The discrete case.\" Bell System Technical Journal 57.5 (1978): 1371-1430."
   ]
  },
  {
   "cell_type": "code",
   "execution_count": null,
   "metadata": {},
   "outputs": [],
   "source": []
  }
 ],
 "metadata": {
  "@webio": {
   "lastCommId": null,
   "lastKernelId": null
  },
  "kernelspec": {
   "display_name": "Julia 1.4.0",
   "language": "julia",
   "name": "julia-1.4"
  },
  "language_info": {
   "file_extension": ".jl",
   "mimetype": "application/julia",
   "name": "julia",
   "version": "1.4.2"
  }
 },
 "nbformat": 4,
 "nbformat_minor": 2
}
