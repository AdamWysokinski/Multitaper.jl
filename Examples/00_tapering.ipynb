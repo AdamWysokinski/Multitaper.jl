{
 "cells": [
  {
   "cell_type": "markdown",
   "metadata": {},
   "source": [
    "# Discrete prolate spheroidal sequences\n",
    "\n",
    "The discrete prolate spheroidal sequences (Slepian, 1978), $v_n^{(k)}(N,W)$, are the eigenvector solutions to the eigenvalue problem\n",
    "\n",
    "$$\\sum_{m = 0}^{N-1}\\frac{\\sin 2\\pi W(n-m)}{\\pi(n-m)}v_m^{(k)}(N,W) = \\lambda_k(N,W)\\cdot v_n^{(k)}(N,W)$$\n",
    "\n",
    "where $N$ is the length of the sequence, $n = 0, \\ldots, N-1$, $W$ is the bandwidth, $K$ is the number of tapers, and $\\lambda_k(N,W)$ is the eigenvalue corresponding to the $k$th taper. \n",
    "\n",
    "The dpss's solve the problem of concentrating, in frequency, the most amount of mass under the interval $(-W,W)$, while having only finite extent in time. \n",
    "\n",
    "In Multitaper.jl, the dpss's are computed in the following way."
   ]
  },
  {
   "cell_type": "code",
   "execution_count": 3,
   "metadata": {
    "ExecuteTime": {
     "end_time": "2020-10-23T14:47:08.491000-05:00",
     "start_time": "2020-10-23T19:46:34.068Z"
    }
   },
   "outputs": [
    {
     "name": "stderr",
     "output_type": "stream",
     "text": [
      "┌ Info: Precompiling Multitaper [a81958ac-9ec9-4086-814d-3ae87249a5e8]\n",
      "└ @ Base loading.jl:1186\n",
      "ERROR: LoadError: Unable to import OpenSpecFun_jll on Julia versions older than 1.3!\n",
      "Stacktrace:\n",
      " [1] error(::String) at ./error.jl:33\n",
      " [2] top-level scope at /Users/charlottehaley/.julia/packages/OpenSpecFun_jll/HMSwk/src/OpenSpecFun_jll.jl:18\n",
      " [3] include at ./boot.jl:326 [inlined]\n",
      " [4] include_relative(::Module, ::String) at ./loading.jl:1038\n",
      " [5] include(::Module, ::String) at ./sysimg.jl:29\n",
      " [6] top-level scope at none:2\n",
      " [7] eval at ./boot.jl:328 [inlined]\n",
      " [8] eval(::Expr) at ./client.jl:404\n",
      " [9] top-level scope at ./none:3\n",
      "in expression starting at /Users/charlottehaley/.julia/packages/OpenSpecFun_jll/HMSwk/src/OpenSpecFun_jll.jl:3\n",
      "ERROR: LoadError: Failed to precompile OpenSpecFun_jll [efe28fd5-8261-553b-a9e1-b2916fc3738e] to /Users/charlottehaley/.julia/compiled/v1.1/OpenSpecFun_jll/TDl1L.ji.\n",
      "Stacktrace:\n",
      " [1] error(::String) at ./error.jl:33\n",
      " [2] compilecache(::Base.PkgId, ::String) at ./loading.jl:1197\n",
      " [3] _require(::Base.PkgId) at ./loading.jl:960\n",
      " [4] require(::Base.PkgId) at ./loading.jl:858\n",
      " [5] require(::Module, ::Symbol) at ./loading.jl:853\n",
      " [6] include at ./boot.jl:326 [inlined]\n",
      " [7] include_relative(::Module, ::String) at ./loading.jl:1038\n",
      " [8] include(::Module, ::String) at ./sysimg.jl:29\n",
      " [9] top-level scope at none:2\n",
      " [10] eval at ./boot.jl:328 [inlined]\n",
      " [11] eval(::Expr) at ./client.jl:404\n",
      " [12] top-level scope at ./none:3\n",
      "in expression starting at /Users/charlottehaley/.julia/packages/SpecialFunctions/LC8dm/src/SpecialFunctions.jl:3\n",
      "ERROR: LoadError: Failed to precompile SpecialFunctions [276daf66-3868-5448-9aa4-cd146d93841b] to /Users/charlottehaley/.julia/compiled/v1.1/SpecialFunctions/78gOt.ji.\n",
      "Stacktrace:\n",
      " [1] error(::String) at ./error.jl:33\n",
      " [2] compilecache(::Base.PkgId, ::String) at ./loading.jl:1197\n",
      " [3] _require(::Base.PkgId) at ./loading.jl:960\n",
      " [4] require(::Base.PkgId) at ./loading.jl:858\n",
      " [5] require(::Module, ::Symbol) at ./loading.jl:853\n",
      " [6] include at ./boot.jl:326 [inlined]\n",
      " [7] include_relative(::Module, ::String) at ./loading.jl:1038\n",
      " [8] include(::Module, ::String) at ./sysimg.jl:29\n",
      " [9] top-level scope at none:2\n",
      " [10] eval at ./boot.jl:328 [inlined]\n",
      " [11] eval(::Expr) at ./client.jl:404\n",
      " [12] top-level scope at ./none:3\n",
      "in expression starting at /Users/charlottehaley/.julia/packages/StatsFuns/CXyCV/src/StatsFuns.jl:6\n",
      "ERROR: LoadError: Failed to precompile StatsFuns [4c63d2b9-4356-54db-8cca-17b64c39e42c] to /Users/charlottehaley/.julia/compiled/v1.1/StatsFuns/530lR.ji.\n",
      "Stacktrace:\n",
      " [1] error(::String) at ./error.jl:33\n",
      " [2] compilecache(::Base.PkgId, ::String) at ./loading.jl:1197\n",
      " [3] _require(::Base.PkgId) at ./loading.jl:960\n",
      " [4] require(::Base.PkgId) at ./loading.jl:858\n",
      " [5] require(::Module, ::Symbol) at ./loading.jl:853\n",
      " [6] include at ./boot.jl:326 [inlined]\n",
      " [7] include_relative(::Module, ::String) at ./loading.jl:1038\n",
      " [8] include(::Module, ::String) at ./sysimg.jl:29\n",
      " [9] top-level scope at none:2\n",
      " [10] eval at ./boot.jl:328 [inlined]\n",
      " [11] eval(::Expr) at ./client.jl:404\n",
      " [12] top-level scope at ./none:3\n",
      "in expression starting at /Users/charlottehaley/Documents/Repos/Multitaper.jl/src/Multitaper.jl:8\n"
     ]
    },
    {
     "ename": "ErrorException",
     "evalue": "Failed to precompile Multitaper [a81958ac-9ec9-4086-814d-3ae87249a5e8] to /Users/charlottehaley/.julia/compiled/v1.1/Multitaper/OT9LO.ji.",
     "output_type": "error",
     "traceback": [
      "Failed to precompile Multitaper [a81958ac-9ec9-4086-814d-3ae87249a5e8] to /Users/charlottehaley/.julia/compiled/v1.1/Multitaper/OT9LO.ji.",
      "",
      "Stacktrace:",
      " [1] error(::String) at ./error.jl:33",
      " [2] compilecache(::Base.PkgId, ::String) at ./loading.jl:1197",
      " [3] _require(::Base.PkgId) at ./loading.jl:960",
      " [4] require(::Base.PkgId) at ./loading.jl:858",
      " [5] require(::Module, ::Symbol) at ./loading.jl:853",
      " [6] top-level scope at In[3]:1"
     ]
    }
   ],
   "source": [
    "using Plots, Multitaper, FFTW\n",
    "\n",
    "N     = 1024\n",
    "NW    = 4.0 \n",
    "K     = 8\n",
    "v,lam = Multitaper.dpss_tapers(N, NW, K, :both)\n",
    "\n",
    "plot(-512:511, v, label = lam', xlabel = \"Index\", title = \"DPSS's sorted by concentration\")"
   ]
  },
  {
   "cell_type": "markdown",
   "metadata": {},
   "source": [
    "The very first dpss taper has the largest \"concentration\" in the bandwidth of interest, very close to one. Subsequent tapers are less and less concentrated. To see this, plot their Fourier transforms as below. We zero pad, as before, to interpolate structure in frequency."
   ]
  },
  {
   "cell_type": "code",
   "execution_count": 4,
   "metadata": {
    "ExecuteTime": {
     "end_time": "2020-10-23T14:47:08.518000-05:00",
     "start_time": "2020-10-23T19:46:34.072Z"
    }
   },
   "outputs": [
    {
     "ename": "UndefVarError",
     "evalue": "UndefVarError: N not defined",
     "output_type": "error",
     "traceback": [
      "UndefVarError: N not defined",
      "",
      "Stacktrace:",
      " [1] top-level scope at In[4]:1"
     ]
    }
   ],
   "source": [
    "M        = 4*N\n",
    "U        = mapreduce(x -> fft(vcat(x,zeros(M-N))), hcat, v[:,k] for k in 1:K)\n",
    "halffreq = Int64(M/2+1)\n",
    "freq     = range(0, 1,length = M+1)[1:halffreq]\n",
    "\n",
    "plot(freq[2:end], abs2.(U)[2:halffreq,:], \n",
    "    label = lam', yscale = :log10, xscale = :log10,\n",
    "    xlabel = \"Frequency (Hz)\", \n",
    "    title = \"Slepian functions\",\n",
    "    ylabel = \"Squared magnitude response \\n sorted by concentration\")\n",
    "\n",
    "plot!((NW/N)*ones(2), [1e-30, 1e3], label=\"W\", line = :dash)"
   ]
  },
  {
   "cell_type": "markdown",
   "metadata": {},
   "source": [
    "One can see that the bulk of the mass under each of the curves is on the interval (-W,W). \n",
    "It is also easy to see that as the concentration, lambda, decreases, there is less mass under\n",
    "the curve inside the band. Since the sequences all have unit energy, there is more mass outside\n",
    "the band for larger index. Comparing with the tapers in the first plot, we see the power drop off rather quickly outside the band (-W, W) of interest. \n",
    "\n",
    "The bandwidth, $W$, is a tuning parameter for the multitaper method, and one adjusts the bandwidth by selecting the time-bandwidth product <tt>NW</tt> above. The number of tapers, $K$, is selected to be less than $2NW$, as the concentration rapidly drops with increasing $k$. For further reading, consult the original paper cited below. "
   ]
  },
  {
   "cell_type": "markdown",
   "metadata": {},
   "source": [
    "# 2D Concentration in the Cartesian Plane\n",
    "\n",
    "For two dimensional sequences where data exist on a Cartesian rectangle, and one wants the spectrum concentrated in a circle one can use the following. The below computes and plots the first three tapers. See Simons and Wang, 2011 for computational details. "
   ]
  },
  {
   "cell_type": "code",
   "execution_count": 5,
   "metadata": {
    "ExecuteTime": {
     "end_time": "2020-10-23T14:47:08.572000-05:00",
     "start_time": "2020-10-23T19:46:34.075Z"
    }
   },
   "outputs": [
    {
     "ename": "UndefVarError",
     "evalue": "UndefVarError: Multitaper not defined",
     "output_type": "error",
     "traceback": [
      "UndefVarError: Multitaper not defined",
      "",
      "Stacktrace:",
      " [1] top-level scope at util.jl:156",
      " [2] top-level scope at In[5]:8"
     ]
    }
   ],
   "source": [
    "nslep = 3 # Number of Slepian tapers desired\n",
    "n = 128 # Number of samples in x on the interval [-1,1]\n",
    "m = 128 # Number of samples in y on the interval [-1,1]\n",
    "Kp = 12.0 # squared radius of the circle\n",
    "N = 32 # number of quadrature nodes (keep this small for best performance)\n",
    "M = 32 # number of quadrature nodes in y-direction\n",
    "verbose = true\n",
    "\n",
    "# It takes 248 seconds on a 2.9 GHz 6-core Intel Core i9 processor with 32 GB of 2400 MHz DDR4 memory\n",
    "# to compute the first 6 tapers\n",
    "@time R = Multitaper.rectsleps(nslep, n, m, Kp, N, M; verbose=verbose)"
   ]
  },
  {
   "cell_type": "code",
   "execution_count": 6,
   "metadata": {
    "ExecuteTime": {
     "end_time": "2020-10-23T14:47:09.412000-05:00",
     "start_time": "2020-10-23T19:46:34.078Z"
    }
   },
   "outputs": [
    {
     "ename": "UndefVarError",
     "evalue": "UndefVarError: R not defined",
     "output_type": "error",
     "traceback": [
      "UndefVarError: R not defined",
      "",
      "Stacktrace:",
      " [1] (::getfield(Main, Symbol(\"##7#8\")))(::Int64) at ./In[6]:11",
      " [2] iterate at ./generator.jl:47 [inlined]",
      " [3] _collect(::UnitRange{Int64}, ::Base.Generator{UnitRange{Int64},getfield(Main, Symbol(\"##7#8\"))}, ::Base.EltypeUnknown, ::Base.HasShape{1}) at ./array.jl:619",
      " [4] collect_similar(::UnitRange{Int64}, ::Base.Generator{UnitRange{Int64},getfield(Main, Symbol(\"##7#8\"))}) at ./array.jl:548",
      " [5] map(::Function, ::UnitRange{Int64}) at ./abstractarray.jl:2018",
      " [6] top-level scope at In[6]:10"
     ]
    }
   ],
   "source": [
    "# Regions of concentration in space and spectrum \n",
    "xy = hcat(collect(range(-1,1,length=20)),ones(20))\n",
    "xy = vcat(xy,hcat(ones(20),collect(range(1,-1,length=20))))\n",
    "xy = vcat(xy,hcat(collect(range(-1,1,length=20)),-ones(20)))\n",
    "xy = vcat(xy,hcat(-ones(20),collect(range(-1,1,length=20))))\n",
    "\n",
    "t = range(0,2*pi,length=80)\n",
    "x = sqrt(12.0)*cos.(t)\n",
    "y = sqrt(12.0)*sin.(t)\n",
    "\n",
    "circ = map(y->abs2.(fftshift(fft(R[y]))),1:nslep)\n",
    "\n",
    "n2 = Int64(n/2)\n",
    "m2 = Int64(m/2)\n",
    "\n",
    "q1 = heatmap(range(-1,1,length=128),range(-1,1,length=128),R[1],title=\"Space\",ylabel=\"1st taper\")\n",
    "q1 = plot!(xy[:,1],xy[:,2],legend=false)\n",
    "q2 = heatmap(collect(-n2:(n2-1)),collect(-m2:(m2-1)),log10.(circ[1]),title=\"Spectrum\")\n",
    "q2 = plot!(x,y,c=:blue,legend=false)\n",
    "\n",
    "q3 = heatmap(range(-1,1,length = 128),range(-1,1,length=128),R[2],ylabel=\"2nd taper\")\n",
    "q3 = plot!(xy[:,1],xy[:,2],legend=false)\n",
    "q4 = heatmap(collect(-n2:(n2-1)),collect(-m2:(m2-1)),log10.(circ[2]))\n",
    "q4 = plot!(x,y,c=:blue,legend=false)\n",
    "\n",
    "q5 = heatmap(range(-1,1,length=128),range(-1,1,length=128),R[3],ylabel=\"3rd taper\")\n",
    "q5 = plot!(xy[:,1],xy[:,2],legend=false)\n",
    "q6 = heatmap(collect(-n2:(n2-1)),collect(-m2:(m2-1)),log10.(circ[3]))\n",
    "q6 = plot!(x,y,c=:blue,legend=false)\n",
    "\n",
    "plot(q1, q2, q3, q4, q5, q6, layout=(3,2))"
   ]
  },
  {
   "cell_type": "markdown",
   "metadata": {},
   "source": [
    "# References\n",
    "\n",
    "Simons, Frederik J., and Dong V. Wang. \"Spatiospectral concentration in the Cartesian plane.\" GEM-International Journal on Geomathematics 2.1 (2011): 1-36.\n",
    "\n",
    "Slepian, David. \"Prolate spheroidal wave functions, Fourier analysis, and uncertainty—V: The discrete case.\" Bell System Technical Journal 57.5 (1978): 1371-1430."
   ]
  },
  {
   "cell_type": "code",
   "execution_count": null,
   "metadata": {},
   "outputs": [],
   "source": []
  }
 ],
 "metadata": {
  "@webio": {
   "lastCommId": null,
   "lastKernelId": null
  },
  "kernelspec": {
   "display_name": "Julia 1.1.1",
   "language": "julia",
   "name": "julia-1.1"
  },
  "language_info": {
   "file_extension": ".jl",
   "mimetype": "application/julia",
   "name": "julia",
   "version": "1.1.1"
  },
  "toc": {
   "base_numbering": 1,
   "nav_menu": {},
   "number_sections": true,
   "sideBar": true,
   "skip_h1_title": false,
   "title_cell": "Table of Contents",
   "title_sidebar": "Contents",
   "toc_cell": false,
   "toc_position": {},
   "toc_section_display": true,
   "toc_window_display": false
  }
 },
 "nbformat": 4,
 "nbformat_minor": 2
}
