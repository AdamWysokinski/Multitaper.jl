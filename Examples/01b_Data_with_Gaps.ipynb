{
 "cells": [
  {
   "cell_type": "markdown",
   "metadata": {},
   "source": [
    "# Multitaper with gaps \n",
    "\n",
    "It is possible to compute the multitaper spectrum on data that contain large gaps. In this notebook we demo the capabilities of this functionality."
   ]
  },
  {
   "cell_type": "code",
   "execution_count": null,
   "metadata": {},
   "outputs": [],
   "source": [
    "# Bring in the testfile\n",
    "using DelimitedFiles, Multitaper, Plots\n",
    "pyplot()\n",
    "\n",
    "dat = readdlm(\"./data/temp.txt\", ',')\n",
    "\n",
    "tt = dat[:,1]\n",
    "xx = dat[:,2]\n",
    "\n",
    "plot(tt,xx)"
   ]
  },
  {
   "cell_type": "markdown",
   "metadata": {},
   "source": [
    "We're going to make a set of slepian tapers having a gap. To see these, use\n"
   ]
  },
  {
   "cell_type": "code",
   "execution_count": null,
   "metadata": {},
   "outputs": [],
   "source": [
    "NW = 4.0\n",
    "W = NW/length(tt)\n",
    "egvals,sleps = MDslepian(W, 6, tt)\n",
    "plot(tt,sleps)"
   ]
  },
  {
   "cell_type": "markdown",
   "metadata": {},
   "source": [
    "There is one gap in the data between t = 101 and t = 256. To do the spectral analysis, use"
   ]
  },
  {
   "cell_type": "code",
   "execution_count": null,
   "metadata": {},
   "outputs": [],
   "source": [
    "out = MDmwps(tt,xx,alpha=0.99)"
   ]
  },
  {
   "cell_type": "markdown",
   "metadata": {},
   "source": [
    "The first output will simply be the estimated spectrum. By default however, this code computes the F-test statistic as well."
   ]
  },
  {
   "cell_type": "code",
   "execution_count": null,
   "metadata": {},
   "outputs": [],
   "source": [
    "plot(out,c=1)"
   ]
  },
  {
   "cell_type": "markdown",
   "metadata": {},
   "source": [
    "These are the p-values for the F-test statistic. I've scattered it where there are significant line components as indicated by the F-test result. The alpha value for the test here is small, set to the reciprocal of the length of the series."
   ]
  },
  {
   "cell_type": "code",
   "execution_count": null,
   "metadata": {},
   "outputs": [],
   "source": [
    "plot(out.f, out.Fpval, label = \"F-test p-value\")\n",
    "ind = findall(out.Fpval .< 1/length(tt))\n",
    "println(\"Significance level set to $(1.0-1/length(tt)).\")\n",
    "scatter!(out.f[ind], out.Fpval[ind], label=\"Significant peaks\")"
   ]
  },
  {
   "cell_type": "markdown",
   "metadata": {},
   "source": [
    "There is nothing deep about this example, in that the data were simply white noise with added gaps, so there is not much to be said about this result. "
   ]
  },
  {
   "cell_type": "markdown",
   "metadata": {},
   "source": [
    "# References\n",
    "\n",
    "Chave, Alan D. \"A multitaper spectral estimator for time-series with missing data.\" Geophysical Journal International 218.3 (2019): 2165-2178.\n"
   ]
  },
  {
   "cell_type": "code",
   "execution_count": null,
   "metadata": {},
   "outputs": [],
   "source": []
  }
 ],
 "metadata": {
  "kernelspec": {
   "display_name": "Julia 1.3.0",
   "language": "julia",
   "name": "julia-1.3"
  },
  "language_info": {
   "file_extension": ".jl",
   "mimetype": "application/julia",
   "name": "julia",
   "version": "1.3.0"
  }
 },
 "nbformat": 4,
 "nbformat_minor": 2
}
