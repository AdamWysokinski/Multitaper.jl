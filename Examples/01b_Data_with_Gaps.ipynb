{
 "cells": [
  {
   "cell_type": "markdown",
   "metadata": {},
   "source": [
    "# Multitaper coherence with gaps\n",
    "\n",
    "The following textbook example was taken from Example 4.21 in the 4th edition of the Shumway & Stoffer time series text where the authors investigated the relationship between the Southern Oscillation Index and recruitment from fish populations. The data are plotted in Fig. 1.5 (p 5), and sampled monthly for a total of 453 samples. We have introduced a 49-sample gap in the data, where the gappy series is shown in black overlaid on the original series in blue."
   ]
  },
  {
   "cell_type": "code",
   "execution_count": null,
   "metadata": {
    "ExecuteTime": {
     "end_time": "2020-09-12T09:13:48.015000-05:00",
     "start_time": "2020-09-12T14:13:28.762Z"
    }
   },
   "outputs": [],
   "source": [
    "using Statistics, FFTW, Arpack, LinearAlgebra, Distributions, Multitaper, DelimitedFiles, Plots\n",
    "tog = true;\n",
    "try \n",
    "    using RCall\n",
    "catch\n",
    "    tog = false;\n",
    "    println(\"If you have RCall.jl and an R installation with the astsa package, you can run Shumway and Stoffer's original code. Continuing without it.\")\n",
    "end"
   ]
  },
  {
   "cell_type": "code",
   "execution_count": null,
   "metadata": {
    "ExecuteTime": {
     "end_time": "2020-09-12T09:14:04.009000-05:00",
     "start_time": "2020-09-12T14:13:28.765Z"
    }
   },
   "outputs": [],
   "source": [
    "gaptimes = vcat(collect(1:200),collect(250:453))\n",
    "\n",
    "# You may have to modify this path to the location of your Multitaper.jl installation so you can load the data\n",
    "MTdir = homedir()*\"/Documents/Repos/Multitaper.jl/\"\n",
    "\n",
    "fn  = \"Examples/data/soirecruitment.dat\"\n",
    "dat = readdlm(MTdir*fn)\n",
    "N1, p = size(dat)\n",
    "\n",
    "# Variances of the two series\n",
    "s1 = var(dat[:,3])\n",
    "s2 = var(dat[:,4])\n",
    "\n",
    "p = plot(dat[:,1] .+ dat[:,2]/12, dat[:,3:4], layout=(2,1), legend=false, \n",
    "    ylabel = [\"SOI\" \"Recruitment\"], xlabel = [\"\" \"Year\"])#,xlim=[1960,1965])\n",
    "p = plot!(dat[collect(1:200),1].+dat[collect(1:200),2]/12, dat[collect(1:200),3:4], layout=(2,1), legend=false, \n",
    "    c = :black)\n",
    "p = plot!(dat[collect(250:453),1].+dat[collect(250:453),2]/12, dat[collect(250:453),3:4], layout=(2,1), legend=false, \n",
    "    c = :black)"
   ]
  },
  {
   "cell_type": "markdown",
   "metadata": {},
   "source": [
    "Fig. 4.15 (p 212) shows the estimate of the squared coherence computed using standard Daniell tapering and smoothing exactly as in the example from Shumway & Stoffer."
   ]
  },
  {
   "cell_type": "code",
   "execution_count": null,
   "metadata": {
    "ExecuteTime": {
     "end_time": "2020-09-12T09:14:06.726000-05:00",
     "start_time": "2020-09-12T14:13:28.768Z"
    }
   },
   "outputs": [],
   "source": [
    "if tog \n",
    "\n",
    "R\"\"\"\n",
    "library(astsa)\n",
    "png(\"/users/charlottehaley/Documents/Repos/gaps/Doc/Figures/Rmsc_soirec.png\")\n",
    "dev.new(width=7, height=4) # default is 7 x 7 inches\n",
    "par(mar=c(3,3,1,1), mgp=c(1.6,.6,0) )\n",
    "ker = kernel(\"daniell\",9)\n",
    "sr = mvspec(cbind(soi,rec), kernel(\"daniell\",9), plot=FALSE)\n",
    "sr$df # df = 35.8625\n",
    "f = qf(.999, 2, sr$df-2) # = 8.529792\n",
    "C = f/(18+f) # = 0.321517\n",
    "plot(sr, plot.type = \"coh\", ci.lty = 2, main=\"\", xlab = \"Frequency\", ylab=\"MSC\")\n",
    "grid(lty=1, col=gray(.9))\n",
    "abline(h = C)\n",
    "dev.off()\"\"\";\n",
    "\n",
    "@rget sr\n",
    "@rget ker\n",
    "\n",
    "plot(sr[:freq],Multitaper.unwrapphase(sr[:phase][:]*180/pi))\n",
    "\n",
    "ker, 1/19\n",
    "\n",
    "else\n",
    "    println(\"This cell would have run the R code, if available.\")\n",
    "end"
   ]
  },
  {
   "cell_type": "markdown",
   "metadata": {},
   "source": [
    "In the next figure, solid lines show the multitaper version of the spectrum, MSC estimate, and phase, where time-bandwidth product was set to 5 and 6 tapers were used. The gappy spectrum estimates, coherences, and phases, are shown with dotted lines. In comparison with the standard periodogram estimate, the multitaper requires much less smoothing to be consistent."
   ]
  },
  {
   "cell_type": "code",
   "execution_count": null,
   "metadata": {
    "ExecuteTime": {
     "end_time": "2020-09-12T09:14:21.266000-05:00",
     "start_time": "2020-09-12T14:13:28.769Z"
    }
   },
   "outputs": [],
   "source": [
    "# Compute multitaper spectrum/coherences\n",
    "NW = 5.0\n",
    "K  = 6\n",
    "dt = 1.0/12\n",
    "\n",
    "multiv = multispec(dat[:,3:4], dt = dt, NW = NW, \n",
    "    K = K, jk = true, Ftest = true, guts = true, pad = 2.0)\n",
    "\n",
    "N = length(gaptimes)\n",
    "nz = 2*N1/N - 1\n",
    "M = multiv[1][1].params.M\n",
    "\n",
    "cross_pkg = mdmultispec(gaptimes, dat[gaptimes,3:4], nz=nz, dt=dt);"
   ]
  },
  {
   "cell_type": "markdown",
   "metadata": {},
   "source": [
    "A plot of the spectra and coherences for the data without gaps (solid lines) and with gaps (dashed lines) shows good agreement. Note, the spectra show slightly larger values for the gappy series because there is a factor of 1/N in the normalizing constant, and N is smaller for the gappy series."
   ]
  },
  {
   "cell_type": "code",
   "execution_count": null,
   "metadata": {
    "ExecuteTime": {
     "end_time": "2020-09-12T09:14:23.128000-05:00",
     "start_time": "2020-09-12T14:13:28.775Z"
    }
   },
   "outputs": [],
   "source": [
    "plot(multiv, ylabel=[\"Spectrum SOI\" \"MSC\" \"Phase\" \"Spectrum Rec\"], legend=false)\n",
    "plot!(cross_pkg, linestyle=:dash)"
   ]
  },
  {
   "cell_type": "markdown",
   "metadata": {},
   "source": [
    "Putting it altogether, we can compare the estimates all in one 4-panel plot, omitting confidence intervals for now. We'll highlight the El Nino band with yellow."
   ]
  },
  {
   "cell_type": "code",
   "execution_count": null,
   "metadata": {
    "ExecuteTime": {
     "end_time": "2020-09-12T09:14:25.409000-05:00",
     "start_time": "2020-09-12T14:13:28.779Z"
    }
   },
   "outputs": [],
   "source": [
    "q = plot(multiv[2], phase = true, legend = false, \n",
    "    label = \"Multitaper estimate\")\n",
    "q = plot!(cross_pkg[2][1,2].f, [Multitaper.tanhtrans.(cross_pkg[2][1,2].coh, 9) cross_pkg[2][1,2].phase],\n",
    "    c = :black, layout = (2, 1), linestyle = :dash, \n",
    "    label = \"MT with gaps\")\n",
    "if tog\n",
    "q = plot!(sr[:freq], [sr[:coh] Multitaper.unwrapphase(sr[:phase][:]*180/pi,:deg)], layout = (2,1), \n",
    "    c = :red, linestyle=:dot, \n",
    "    label = \"R coherence estimate\")\n",
    "end\n",
    "plot!(q, vcat((1/7)*ones(2,1),(1/3)*ones(2,1)),[0,1,1,0],\n",
    "    fill = (0,0.3,:yellow), line=(:yellow, 0.3), \n",
    "    label = \"El Nino band\")\n",
    "plot!(q, [0, 6], [200, 1100] .- 360.0, subplot = 2, layout = (2, 1), \n",
    "    label = \"Estimated linear phase\")\n",
    "\n",
    "plot(p, q, layout = (1, 2), size = (800, 350))"
   ]
  },
  {
   "cell_type": "markdown",
   "metadata": {},
   "source": [
    "The slope of the phase is approximately 150 degrees per cycle per year, which amounts to a delay of recruitment with respect to SOI, in months, of:"
   ]
  },
  {
   "cell_type": "code",
   "execution_count": null,
   "metadata": {
    "ExecuteTime": {
     "end_time": "2020-09-12T09:14:25.729000-05:00",
     "start_time": "2020-09-12T14:13:28.781Z"
    }
   },
   "outputs": [],
   "source": [
    "(900/6)*(pi/180)*(12/(2*pi))"
   ]
  },
  {
   "cell_type": "markdown",
   "metadata": {},
   "source": [
    "Alternatively, one can interpret this as a delay of SOI with respect to recruitment of 7 months. However, it is more likely that recruitment is dependent on SOI than the other way around. "
   ]
  },
  {
   "cell_type": "markdown",
   "metadata": {
    "ExecuteTime": {
     "end_time": "2020-09-12T08:59:38.138000-05:00",
     "start_time": "2020-09-12T13:59:38.111Z"
    }
   },
   "source": [
    "## An in-depth look at the MSC\n",
    "\n",
    "Let's plot both of the multitaper coherence estimates together to see how they differ."
   ]
  },
  {
   "cell_type": "code",
   "execution_count": null,
   "metadata": {
    "ExecuteTime": {
     "end_time": "2020-09-12T09:14:26.807000-05:00",
     "start_time": "2020-09-12T14:13:28.785Z"
    }
   },
   "outputs": [],
   "source": [
    "pp = plot(multiv[2][1, 2], legend = false, xlim = [0, 6],\n",
    "    ylabel = \"Transformed MSC\", \n",
    "    label = \"MT estimate\")\n",
    "plot!(pp, cross_pkg[2][1, 2], linestyle = :dash, c = :black,\n",
    "    label = \"MT with gaps\")\n",
    "plot!((1/3.4)*ones(2, 1), [-2.5, 12.5])"
   ]
  },
  {
   "cell_type": "markdown",
   "metadata": {},
   "source": [
    "To see how similar the coherence estimates are to each other, one can compute confidence limits using leave-one-out jackknifing, described in Thomson and Chave (1991) for the estimates with and without the gaps. Note that the coherence here is shown on a transformed scale, described in the original paper. "
   ]
  },
  {
   "cell_type": "code",
   "execution_count": null,
   "metadata": {
    "ExecuteTime": {
     "end_time": "2020-09-12T09:14:27.971000-05:00",
     "start_time": "2020-09-12T14:13:28.787Z"
    }
   },
   "outputs": [],
   "source": [
    "# This bonus plots recipe for coherences is not built in because of a feature of Plots.jl \n",
    "# that would require Plots.jl to become a dependency, so we load it in separately:\n",
    "using RecipesBase\n",
    "include(MTdir*\"src/PlotsRecipes/Coherence_plot.jl\")"
   ]
  },
  {
   "cell_type": "code",
   "execution_count": null,
   "metadata": {
    "ExecuteTime": {
     "end_time": "2020-09-12T09:14:29.948000-05:00",
     "start_time": "2020-09-12T14:13:28.789Z"
    }
   },
   "outputs": [],
   "source": [
    "plot(multiv[2][1,2], siglines = true, msclines = false, sigMax = 4, legtext = false, \n",
    "       force_ylims = nothing, mscaxis = true, sigaxis = true, jk = false)\n",
    "plot!(cross_pkg[2][1,2], c = :black, linestyle=:dash, msclines = false, jk = false)"
   ]
  },
  {
   "cell_type": "markdown",
   "metadata": {},
   "source": [
    "## A closer look at the phase\n",
    "\n",
    "Note that the phases in the bottom left of the 4-panel plot above resemble each other but are sometimes offset by 360 degrees. This would mean they are equivalent, but to compare these better, one can look at the angle of the phase factor, i.e. \n",
    "\n",
    "$$ \\frac{e^{i\\phi_1}}{e^{i\\phi_2}}. $$\n",
    "\n",
    "The angle of the phase factor is shown in the next figure."
   ]
  },
  {
   "cell_type": "code",
   "execution_count": null,
   "metadata": {
    "ExecuteTime": {
     "end_time": "2020-09-12T09:14:30.662000-05:00",
     "start_time": "2020-09-12T14:13:28.792Z"
    }
   },
   "outputs": [],
   "source": [
    "phase_factor = (180.0/pi)*angle.(exp.(1.0im*cross_pkg[2][1, 2].phase*(pi/180.0))./exp.(1.0im*multiv[2][1,2].phase*(pi/180.0)))\n",
    "\n",
    "plot(multiv[2][1,2].f, phase_factor, label=\"phase diff\",ylabel=\"phase diff, deg\", xlabel=\"Frequency\")"
   ]
  },
  {
   "cell_type": "markdown",
   "metadata": {},
   "source": [
    "The result of the phase comparison is that there are some large-ish differences in numerous places, but this difference tends to center around 0.\n",
    "\n",
    "The coherence difference is perhaps less meaningful because it is in transformed arctanh units. It is more helpful to look at the confidence intervals on the above plot and see where the gappy one exits the CI."
   ]
  },
  {
   "cell_type": "markdown",
   "metadata": {},
   "source": [
    "In search of a better phase comparison, we compute the phase factors for each of the estimates where the comparison is done against the estimated line of best fit (circular subtraction of the line y = 150x + 180)."
   ]
  },
  {
   "cell_type": "code",
   "execution_count": null,
   "metadata": {
    "ExecuteTime": {
     "end_time": "2020-09-12T09:14:31.264000-05:00",
     "start_time": "2020-09-12T14:13:28.795Z"
    }
   },
   "outputs": [],
   "source": [
    "lobfun(f) = -180 .+ 150.0*f\n",
    "phase_fact(f, p) = (180.0/pi)*angle.(exp.(1.0im*p*(pi/180.0))./exp.(1.0im*lobfun.(f)*(pi/180.0)))\n",
    "\n",
    "r = plot(multiv[2][1,2].f, phase_fact(multiv[2][1,2].f, multiv[2][1,2].phase),\n",
    "    label = \"MT phase estimate\", xlabel = \"Frequency (cyc/y)\", ylabel = \"Phase factor\",\n",
    "    legend = false)\n",
    "r = plot!(cross_pkg[2][1,2].f, phase_fact(cross_pkg[2][1,2].f, cross_pkg[2][1,2].phase),\n",
    "    line = (:black, :dash),\n",
    "    label = \"MT phase w gaps\")\n",
    "if tog\n",
    "r = plot!(sr[:freq], phase_fact(sr[:freq], Multitaper.unwrapphase(sr[:phase][:]*180/pi,:deg)),\n",
    "    line = (:red, :dot),\n",
    "    label = \"SS phase\")\n",
    "end"
   ]
  },
  {
   "cell_type": "code",
   "execution_count": null,
   "metadata": {
    "ExecuteTime": {
     "end_time": "2020-09-12T09:14:31.518000-05:00",
     "start_time": "2020-09-12T14:13:28.796Z"
    }
   },
   "outputs": [],
   "source": [
    "qr = plot(multiv[2], phase = false, legend = false, \n",
    "    label = \"Multitaper estimate\")\n",
    "\n",
    "qr = plot!(cross_pkg[2][1,2].f, Multitaper.tanhtrans.(cross_pkg[2][1,2].coh, 9),\n",
    "    c = :black, linestyle = :dash, \n",
    "    label = \"MT with gaps\")\n",
    "if tog\n",
    "qr = plot!(sr[:freq], sr[:coh],\n",
    "    c = :red, linestyle=:dot, \n",
    "    label = \"R coherence estimate\")\n",
    "end\n",
    "plot!(qr, vcat((1/7)*ones(2,1),(1/3)*ones(2,1)),[0,1,1,0],\n",
    "    fill = (0,0.3,:yellow), line=(:yellow, 0.3), \n",
    "    label = \"El Nino band\")\n",
    "\n",
    "plot(p, plot(qr,r,layout=(2,1)), layout = (1, 2), size = (800, 350))"
   ]
  },
  {
   "cell_type": "markdown",
   "metadata": {},
   "source": [
    "As we saw with the coherence estimate, the smoothing results in a periodogram-type estimate of the phase that is ultimately much smoother than that of the other two estimates. The multitaper estimator is allowed to vary more widely. "
   ]
  },
  {
   "cell_type": "code",
   "execution_count": null,
   "metadata": {
    "ExecuteTime": {
     "end_time": "2020-09-12T09:14:31.704000-05:00",
     "start_time": "2020-09-12T14:13:28.799Z"
    }
   },
   "outputs": [],
   "source": [
    "mtphasefact = phase_fact(multiv[2][1,2].f, multiv[2][1,2].phase)\n",
    "mtgapphasefact = phase_fact(cross_pkg[2][1,2].f, cross_pkg[2][1,2].phase)\n",
    "\n",
    "using StatsFuns\n",
    "z = norminvcdf(0,1,0.975)\n",
    "\n",
    "qq = plot(multiv[2][1,2].f, mtphasefact, c = 1,\n",
    "    label = \"MT phase residual\", xlabel = \"Frequency (cyc/y)\", ylabel = \"Phase factor\")\n",
    "plot!(qq, vcat(multiv[2][1,2].f, multiv[2][1,2].f[end:-1:1]), \n",
    "    vcat(mtphasefact,mtphasefact[end:-1:1]) .+ z*vcat((multiv[2][1,2].jkvar[2]), -(multiv[2][1,2].jkvar[2][end:-1:1]))\n",
    "    , c = 1, fill = (0, 0.2), linealpha = 0.2, primary = false,\n",
    "    label = \"MT phase CI\")\n",
    "#=\n",
    "#Cross shape\n",
    "center = [0.5,400]\n",
    "plot!(center[1] .+ (multiv[1][1].params.NW/multiv[1][1].params.N)*[-1.0, 1.0], center[2]*ones(2),c = 1,label=\"\")\n",
    "=#\n",
    "\n",
    "plot!(qq, cross_pkg[2][1,2].f, mtgapphasefact,\n",
    "    line = (:black, :dash),\n",
    "    label = \"MT phase residual w gaps\")\n",
    "\n",
    "plot!(qq, vcat(cross_pkg[2][1,2].f, cross_pkg[2][1,2].f[end:-1:1]), \n",
    "    vcat(mtgapphasefact,mtgapphasefact[end:-1:1]) .+ z*vcat((cross_pkg[2][1,2].jkvar[2]), -(cross_pkg[2][1,2].jkvar[2][end:-1:1]))\n",
    "    , c = :black, fill = (0, 0.2), linealpha = 0.2, primary = false,\n",
    "    label = \"MT gaps phase CI\")\n",
    "\n",
    "if tog\n",
    "plot!(qq, sr[:freq], phase_fact(sr[:freq], Multitaper.unwrapphase(sr[:phase][:]*180/pi,:deg)),\n",
    "    line = (:red, :dot),\n",
    "    label = \"R phase residual\")\n",
    "end"
   ]
  },
  {
   "cell_type": "code",
   "execution_count": null,
   "metadata": {},
   "outputs": [],
   "source": []
  }
 ],
 "metadata": {
  "@webio": {
   "lastCommId": null,
   "lastKernelId": null
  },
  "kernelspec": {
   "display_name": "Julia 1.5.1",
   "language": "julia",
   "name": "julia-1.5"
  },
  "language_info": {
   "file_extension": ".jl",
   "mimetype": "application/julia",
   "name": "julia",
   "version": "1.5.1"
  },
  "toc": {
   "base_numbering": 1,
   "nav_menu": {},
   "number_sections": true,
   "sideBar": true,
   "skip_h1_title": false,
   "title_cell": "Table of Contents",
   "title_sidebar": "Contents",
   "toc_cell": false,
   "toc_position": {},
   "toc_section_display": true,
   "toc_window_display": false
  }
 },
 "nbformat": 4,
 "nbformat_minor": 2
}
