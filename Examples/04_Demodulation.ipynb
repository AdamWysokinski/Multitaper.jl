{
 "cells": [
  {
   "cell_type": "markdown",
   "metadata": {},
   "source": [
    "In this notebook, we illustrate the use of the multitaper version of the complex demodulate (Thomson, 1995) and (Thomson et al., 2007). \n",
    "\n",
    "The demodulation code functions identically to the implementation in the R multitaper package and will use the Central England Temperature series as illustration, as in the R multitaper documentation.\n"
   ]
  },
  {
   "cell_type": "code",
   "execution_count": null,
   "metadata": {},
   "outputs": [],
   "source": [
    "using Multitaper, Statistics, Plots, DelimitedFiles, LsqFit"
   ]
  },
  {
   "cell_type": "code",
   "execution_count": null,
   "metadata": {},
   "outputs": [],
   "source": [
    "cet = readdlm(\"./data/CETmonthly.dat\")\n",
    "yr = cet[:,1] .+ cet[:,2]/12\n",
    "temp = cet[:,3]\n",
    "plot(yr, temp, ylabel = \"Central England \\n Temperature, deg C\",\n",
    "    xlabel = \"Year\", label = \"Temperature\")"
   ]
  },
  {
   "cell_type": "markdown",
   "metadata": {},
   "source": [
    "Consulting the spectrum, we see an obvious peak at 1 cycle per year (and a harmonic at 2 cyc/y!) characteristic of climate forcing. "
   ]
  },
  {
   "cell_type": "code",
   "execution_count": null,
   "metadata": {},
   "outputs": [],
   "source": [
    "S = multispec(temp, NW = 3.0, K = 5, jk = true, dt=1.0/12)\n",
    "sp = plot(S, xlabel = \"Frequency (cyc/yr)\",\n",
    "    ylabel = \"Spectrum (deg C * yr/cycles)^2\")"
   ]
  },
  {
   "cell_type": "markdown",
   "metadata": {},
   "source": [
    "To investigate the characteristics of this frequency in the time domain, we use the zeroth order Slepian sequence as a filter to extract frequencies nearby 1 cyc/y, shift them in frequency to the origin, and we obtain the complex demodulate. The idea is to use a small bandwidth in frequency. "
   ]
  },
  {
   "cell_type": "code",
   "execution_count": null,
   "metadata": {},
   "outputs": [],
   "source": [
    "NW = 2.0\n",
    "K = 1.0\n",
    "# Block length is 15 years\n",
    "blockLen = 15*12\n",
    "rdm = demodulate(temp, K, NW, blockLen, true, 1.0/12, yr[1])\n",
    "println(\"The bandwidth is $(NW/length(temp)) cyc/y.\")"
   ]
  },
  {
   "cell_type": "markdown",
   "metadata": {},
   "source": [
    "The complex demodulate estimates the instantaneous amplitude and phase of the temperature series near the 1 cyc/yr frequency. "
   ]
  },
  {
   "cell_type": "code",
   "execution_count": null,
   "metadata": {},
   "outputs": [],
   "source": [
    "p1 = plot(yr, temp, label = \"Temperature data\")\n",
    "p1 = plot!(rdm.time, rdm.mag, ylabel=\"Magnitude\")\n",
    "p2 = plot(rdm.time[2:end-1], rdm.phase[2:end-1] .+ 360.0,\n",
    "    ylabel=\"Phase (deg)\", xlabel = \"Year\", label = \"Complex demodulate\")\n",
    "plot(p1, p2, layout = (2,1), label = \"Complex demodulate\")"
   ]
  },
  {
   "cell_type": "markdown",
   "metadata": {},
   "source": [
    "Consulting the paper of Thomson 1995 in Science, the adjustment for the use of the Gregorian vs Julian calendar is relevant. Adjusting everything that happens before September 1752, we get the following result. We have also placed a least squares line on the plot that has slope that should more or less equal the precession constant."
   ]
  },
  {
   "cell_type": "code",
   "execution_count": null,
   "metadata": {},
   "outputs": [],
   "source": [
    "phase = rdm.phase\n",
    "nJulOff = 1175\n",
    "offsJul = 3*360/365\n",
    "phaseAdj = copy(phase)\n",
    "phaseAdj[1:nJulOff] = phase[1:nJulOff] .+ offsJul;\n",
    "\n",
    "@. model(x, p) = p[1] + x*p[2]\n",
    "p0 = [0.5, 0.5]\n",
    "fit = curve_fit(model, yr[1:length(phase)], phaseAdj .+ 360.0, p0).param\n",
    "\n",
    "plot(yr[1:(length(phase)-2)],phase[2:(end-1)] .+ 360.0, label = \"CDM phase estimate\",\n",
    "    ylab=\"Phase of the Year in Degrees\",\n",
    "    xlab=\"Gegorian calender date\", xtick=1650:50:2000, \n",
    "    size = (1.5*280,1.5*320), legend = :topright) \n",
    "plot!(yr[1:(length(phase)-2)], phaseAdj[2:(end-1)] .+ 360.0, label = \"Adjusted Phase\")\n",
    "plot!(yr[1:(length(phase)-2)], fit[1] .+ fit[2]*yr[1:(length(phase)-2)],\n",
    "    label=\"Fitted lsq line\")\n",
    "plot!(yr[1:(length(phase)-2)], fit[1] - 5 .+ (-50.256/(60*60))*yr[1:(length(phase)-2)],\n",
    "    label=\"General Precession\")"
   ]
  },
  {
   "cell_type": "code",
   "execution_count": null,
   "metadata": {},
   "outputs": [],
   "source": [
    "println(\"Precession Estimate: $(fit[2]*60*60) (arcseconds/yr)\\n\")"
   ]
  },
  {
   "cell_type": "markdown",
   "metadata": {},
   "source": [
    "The R output does not actually match the figure 1 from the original paper, in fact it seems to be smaller than Thomson's estimate by about 28 degrees, and grossly overerestimates the precession constant of 50.256\" per year. (Note the least squares package in Julia returns a different value of the slope than does the R abline, but verifiably the two curves above are identical.) \n",
    "\n",
    "Interestingly, adjustment of the bandwidth does not seem to make this go away."
   ]
  },
  {
   "cell_type": "markdown",
   "metadata": {},
   "source": [
    "# References:\n",
    "\n",
    "Thomson, David J. \"The seasons, global temperature, and precession.\" Science 268.5207 (1995): 59-68.\n",
    "\n",
    "R multitaper package by Karim Rahim: https://github.com/krahim/multitaper/"
   ]
  },
  {
   "cell_type": "code",
   "execution_count": null,
   "metadata": {},
   "outputs": [],
   "source": []
  }
 ],
 "metadata": {
  "@webio": {
   "lastCommId": null,
   "lastKernelId": null
  },
  "kernelspec": {
   "display_name": "Julia 1.4.0",
   "language": "julia",
   "name": "julia-1.4"
  },
  "language_info": {
   "file_extension": ".jl",
   "mimetype": "application/julia",
   "name": "julia",
   "version": "1.4.2"
  }
 },
 "nbformat": 4,
 "nbformat_minor": 2
}
