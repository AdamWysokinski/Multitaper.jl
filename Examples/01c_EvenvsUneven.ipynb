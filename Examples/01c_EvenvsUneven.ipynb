{
 "cells": [
  {
   "cell_type": "markdown",
   "id": "b9646cbb",
   "metadata": {},
   "source": [
    "We need to compare an unequally spaced version of something we know with something equally spaced."
   ]
  },
  {
   "cell_type": "code",
   "execution_count": 1,
   "id": "a676193b",
   "metadata": {},
   "outputs": [
    {
     "ename": "LoadError",
     "evalue": "\u001b[91mcould not open file /Users/charlottehaley/.julia/packages/Multitaper/MeP12/Examples/matern.jl\u001b[39m",
     "output_type": "error",
     "traceback": [
      "\u001b[91mcould not open file /Users/charlottehaley/.julia/packages/Multitaper/MeP12/Examples/matern.jl\u001b[39m",
      "",
      "Stacktrace:",
      " [1] include(::String) at ./client.jl:457",
      " [2] top-level scope at In[1]:6",
      " [3] include_string(::Function, ::Module, ::String, ::String) at ./loading.jl:1091"
     ]
    }
   ],
   "source": [
    "using Multitaper, Plots\n",
    "using LombScargle, Random\n",
    "\n",
    "include(dirname(dirname(pathof(Multitaper)))*\"/Examples/pgram.jl\")\n",
    "include(dirname(dirname(pathof(Multitaper)))*\"/Examples/single_tapers.jl\")\n",
    "include(dirname(dirname(pathof(Multitaper)))*\"/Examples/matern.jl\")\n",
    "\n",
    "function fejer(N)\n",
    "  fey = [(1/N)*(1-cos(N*x))/(1-cos(x)) for x in LinRange(-1.0, 1.0, N+1)[1:N]]\n",
    "  fey[Int64(N/2 + 1)] = N\n",
    "  return fftshift(N*fey/sum(fey))[vcat(N, collect(1:N-1))]\n",
    "end \n"
   ]
  },
  {
   "cell_type": "code",
   "execution_count": 2,
   "id": "62ff4784",
   "metadata": {},
   "outputs": [
    {
     "ename": "LoadError",
     "evalue": "\u001b[91mUndefVarError: maternsdf not defined\u001b[39m",
     "output_type": "error",
     "traceback": [
      "\u001b[91mUndefVarError: maternsdf not defined\u001b[39m",
      "",
      "Stacktrace:",
      " [1] top-level scope at In[2]:10",
      " [2] include_string(::Function, ::Module, ::String, ::String) at ./loading.jl:1091"
     ]
    }
   ],
   "source": [
    "N = 1_024 \n",
    "N2 = 513\n",
    "freq = LinRange(-0.5, 0.5, N+1)[1:N]\n",
    "\n",
    "phi = 1.0\n",
    "a = 0.1\n",
    "nu = 1.5\n",
    "flr = 0.0\n",
    "\n",
    "S = maternsdf.(freq, phi, a, nu, flr);"
   ]
  },
  {
   "cell_type": "code",
   "execution_count": 3,
   "id": "d9cd7381",
   "metadata": {},
   "outputs": [
    {
     "ename": "LoadError",
     "evalue": "\u001b[91mUndefVarError: Matern_sim not defined\u001b[39m",
     "output_type": "error",
     "traceback": [
      "\u001b[91mUndefVarError: Matern_sim not defined\u001b[39m",
      "",
      "Stacktrace:",
      " [1] top-level scope at In[3]:1",
      " [2] include_string(::Function, ::Module, ::String, ::String) at ./loading.jl:1091"
     ]
    }
   ],
   "source": [
    "dat = Matern_sim([phi, a, nu, flr], N)[1];"
   ]
  },
  {
   "cell_type": "code",
   "execution_count": 4,
   "id": "b7d2ccb8",
   "metadata": {},
   "outputs": [
    {
     "ename": "LoadError",
     "evalue": "\u001b[91mUndefVarError: dat not defined\u001b[39m",
     "output_type": "error",
     "traceback": [
      "\u001b[91mUndefVarError: dat not defined\u001b[39m",
      "",
      "Stacktrace:",
      " [1] top-level scope at In[4]:1",
      " [2] include_string(::Function, ::Module, ::String, ::String) at ./loading.jl:1091"
     ]
    }
   ],
   "source": [
    "Pxx = sm_pgram(dat, taper = :dirichlet)\n",
    "Direct = sm_pgram(dat)"
   ]
  },
  {
   "cell_type": "code",
   "execution_count": 5,
   "id": "8e2937dd",
   "metadata": {},
   "outputs": [
    {
     "ename": "LoadError",
     "evalue": "\u001b[91mUndefVarError: Pxx not defined\u001b[39m",
     "output_type": "error",
     "traceback": [
      "\u001b[91mUndefVarError: Pxx not defined\u001b[39m",
      "",
      "Stacktrace:",
      " [1] top-level scope at In[5]:1",
      " [2] include_string(::Function, ::Module, ::String, ::String) at ./loading.jl:1091"
     ]
    }
   ],
   "source": [
    "plot(Pxx)\n",
    "plot!(Direct)\n",
    "plot!(freq, S*4, xlims = [0, 0.5], label = \"Truth\")"
   ]
  },
  {
   "cell_type": "code",
   "execution_count": 6,
   "id": "844dc985",
   "metadata": {},
   "outputs": [
    {
     "ename": "LoadError",
     "evalue": "\u001b[91mUndefVarError: dat not defined\u001b[39m",
     "output_type": "error",
     "traceback": [
      "\u001b[91mUndefVarError: dat not defined\u001b[39m",
      "",
      "Stacktrace:",
      " [1] top-level scope at In[6]:1",
      " [2] include_string(::Function, ::Module, ::String, ::String) at ./loading.jl:1091"
     ]
    }
   ],
   "source": [
    "MT = multispec(dat)"
   ]
  },
  {
   "cell_type": "code",
   "execution_count": 7,
   "id": "14144a22",
   "metadata": {},
   "outputs": [
    {
     "ename": "LoadError",
     "evalue": "\u001b[91mUndefVarError: MT not defined\u001b[39m",
     "output_type": "error",
     "traceback": [
      "\u001b[91mUndefVarError: MT not defined\u001b[39m",
      "",
      "Stacktrace:",
      " [1] top-level scope at In[7]:1",
      " [2] include_string(::Function, ::Module, ::String, ::String) at ./loading.jl:1091"
     ]
    }
   ],
   "source": [
    "plot!(MT, label = \"MT, NW = 4\", linewidth = 2)"
   ]
  },
  {
   "cell_type": "markdown",
   "id": "6b3e1159",
   "metadata": {},
   "source": [
    "## Unequal spacing\n",
    "\n",
    "This is not actually unequal spacing. It is an equal grid and I have deleted some observations. "
   ]
  },
  {
   "cell_type": "code",
   "execution_count": 8,
   "id": "b436387d",
   "metadata": {},
   "outputs": [
    {
     "ename": "LoadError",
     "evalue": "\u001b[91mUndefVarError: dat not defined\u001b[39m",
     "output_type": "error",
     "traceback": [
      "\u001b[91mUndefVarError: dat not defined\u001b[39m",
      "",
      "Stacktrace:",
      " [1] top-level scope at In[8]:3",
      " [2] include_string(::Function, ::Module, ::String, ::String) at ./loading.jl:1091"
     ]
    }
   ],
   "source": [
    "# I will delete exactly 24 points, so the results should be GOOD\n",
    "times = unique(sort(vcat(1, randperm(N)[1:1000], N)))\n",
    "plot(times, dat[times])\n",
    "scatter!(times, dat[times])"
   ]
  },
  {
   "cell_type": "code",
   "execution_count": 9,
   "id": "847eb9b1",
   "metadata": {},
   "outputs": [
    {
     "ename": "LoadError",
     "evalue": "\u001b[91mUndefVarError: dat not defined\u001b[39m",
     "output_type": "error",
     "traceback": [
      "\u001b[91mUndefVarError: dat not defined\u001b[39m",
      "",
      "Stacktrace:",
      " [1] top-level scope at In[9]:4",
      " [2] include_string(::Function, ::Module, ::String, ::String) at ./loading.jl:1091"
     ]
    }
   ],
   "source": [
    "w = 4.0/N\n",
    "bet = 0.5\n",
    "\n",
    "Sb = bspec(Float64.(times), dat[times], w, 3, bet, 0.0, false) # (times, dat, W, K, beta, nz, Ftest)"
   ]
  },
  {
   "cell_type": "code",
   "execution_count": 10,
   "id": "8a405361",
   "metadata": {},
   "outputs": [
    {
     "ename": "LoadError",
     "evalue": "\u001b[91mUndefVarError: Sb not defined\u001b[39m",
     "output_type": "error",
     "traceback": [
      "\u001b[91mUndefVarError: Sb not defined\u001b[39m",
      "",
      "Stacktrace:",
      " [1] top-level scope at In[10]:1",
      " [2] include_string(::Function, ::Module, ::String, ::String) at ./loading.jl:1091"
     ]
    }
   ],
   "source": [
    "pl = plot(Sb, label = \"Bronez Multitaper\")\n",
    "plot!(pl, freq, S, xlims = [0, 0.5], label = \"Truth\")"
   ]
  },
  {
   "cell_type": "code",
   "execution_count": 11,
   "id": "39452798",
   "metadata": {},
   "outputs": [
    {
     "ename": "LoadError",
     "evalue": "\u001b[91mUndefVarError: dat not defined\u001b[39m",
     "output_type": "error",
     "traceback": [
      "\u001b[91mUndefVarError: dat not defined\u001b[39m",
      "",
      "Stacktrace:",
      " [1] top-level scope at In[11]:1",
      " [2] include_string(::Function, ::Module, ::String, ::String) at ./loading.jl:1091"
     ]
    }
   ],
   "source": [
    "LS = lombscargle(Float64.(times), dat[times], normalization=:psd)"
   ]
  },
  {
   "cell_type": "code",
   "execution_count": 12,
   "id": "33f929e2",
   "metadata": {},
   "outputs": [
    {
     "ename": "LoadError",
     "evalue": "\u001b[91mUndefVarError: LS not defined\u001b[39m",
     "output_type": "error",
     "traceback": [
      "\u001b[91mUndefVarError: LS not defined\u001b[39m",
      "",
      "Stacktrace:",
      " [1] top-level scope at In[12]:1",
      " [2] include_string(::Function, ::Module, ::String, ::String) at ./loading.jl:1091"
     ]
    }
   ],
   "source": [
    "f,P = freqpower(LS)\n",
    "length(f)"
   ]
  },
  {
   "cell_type": "code",
   "execution_count": 13,
   "id": "e6b9d5bc",
   "metadata": {},
   "outputs": [
    {
     "ename": "LoadError",
     "evalue": "\u001b[91mUndefVarError: f not defined\u001b[39m",
     "output_type": "error",
     "traceback": [
      "\u001b[91mUndefVarError: f not defined\u001b[39m",
      "",
      "Stacktrace:",
      " [1] top-level scope at In[13]:2",
      " [2] include_string(::Function, ::Module, ::String, ::String) at ./loading.jl:1091"
     ]
    }
   ],
   "source": [
    "# Note the odd division by 4 to compare magnitudes\n",
    "plot!(pl, f[1:2500],P[1:2500]/4, yscale = :log10, label = \"Lomb-Scargle\", linealpha = 0.1, c = :black)"
   ]
  },
  {
   "cell_type": "code",
   "execution_count": 14,
   "id": "e72fc82d",
   "metadata": {},
   "outputs": [
    {
     "ename": "LoadError",
     "evalue": "\u001b[91mUndefVarError: fejer not defined\u001b[39m",
     "output_type": "error",
     "traceback": [
      "\u001b[91mUndefVarError: fejer not defined\u001b[39m",
      "",
      "Stacktrace:",
      " [1] top-level scope at In[14]:7",
      " [2] include_string(::Function, ::Module, ::String, ::String) at ./loading.jl:1091"
     ]
    }
   ],
   "source": [
    "SW = lombscargle(Float64.(times), ones(length(times)), center_data = false, \n",
    "    fit_mean = false, normalization=:psd)\n",
    "f,PW = freqpower(SW)\n",
    "\n",
    "spw = plot(f,PW, yscale=:log10, label = \"Lomb-Scargle Spectral Window\", xlims = [0,0.5])\n",
    "\n",
    "FK = fejer(N)\n",
    "plot!(spw, LinRange(0, 1, N+1)[1:N], FK, yscale = :log10, label=\"Féjèr\")"
   ]
  },
  {
   "cell_type": "markdown",
   "id": "cb2c834a",
   "metadata": {},
   "source": [
    "## Missing data problem"
   ]
  },
  {
   "cell_type": "code",
   "execution_count": 16,
   "id": "13662927",
   "metadata": {},
   "outputs": [
    {
     "ename": "LoadError",
     "evalue": "\u001b[91mUndefVarError: dat not defined\u001b[39m",
     "output_type": "error",
     "traceback": [
      "\u001b[91mUndefVarError: dat not defined\u001b[39m",
      "",
      "Stacktrace:",
      " [1] top-level scope at In[16]:1",
      " [2] include_string(::Function, ::Module, ::String, ::String) at ./loading.jl:1091"
     ]
    }
   ],
   "source": [
    "Smd = mdmultispec(Float64.(times), dat[times]);"
   ]
  },
  {
   "cell_type": "code",
   "execution_count": 17,
   "id": "a10861cb",
   "metadata": {},
   "outputs": [
    {
     "ename": "LoadError",
     "evalue": "\u001b[91mUndefVarError: Sb not defined\u001b[39m",
     "output_type": "error",
     "traceback": [
      "\u001b[91mUndefVarError: Sb not defined\u001b[39m",
      "",
      "Stacktrace:",
      " [1] top-level scope at In[17]:1",
      " [2] include_string(::Function, ::Module, ::String, ::String) at ./loading.jl:1091"
     ]
    }
   ],
   "source": [
    "plot(Sb, label = \"Bronez spectrum\")\n",
    "plot!(Smd.f, Smd.S/2, label=\"Missing data MT\")\n",
    "plot!(freq, S, xlims = [0, 0.5], label = \"Truth\")"
   ]
  },
  {
   "cell_type": "markdown",
   "id": "2ccd10e3",
   "metadata": {},
   "source": [
    "Disappointing performance on all counts."
   ]
  },
  {
   "cell_type": "code",
   "execution_count": null,
   "id": "43fd0fb3",
   "metadata": {},
   "outputs": [],
   "source": []
  }
 ],
 "metadata": {
  "kernelspec": {
   "display_name": "Julia 1.5.4",
   "language": "julia",
   "name": "julia-1.5"
  },
  "language_info": {
   "file_extension": ".jl",
   "mimetype": "application/julia",
   "name": "julia",
   "version": "1.5.4"
  }
 },
 "nbformat": 4,
 "nbformat_minor": 5
}
